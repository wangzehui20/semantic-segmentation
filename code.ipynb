{
 "cells": [
  {
   "cell_type": "code",
   "execution_count": 1,
   "metadata": {},
   "outputs": [],
   "source": [
    "import torch\n",
    "import torch.nn.functional as F\n",
    "\n",
    "\n",
    "def SoftCrossEntropy(inputs, target, reduction='sum'):\n",
    "    log_likelihood = -F.log_softmax(inputs, dim=1)\n",
    "    batch = inputs.shape[0]\n",
    "    if reduction == 'average':\n",
    "        loss = torch.sum(torch.mul(log_likelihood, target)) / batch\n",
    "    else:\n",
    "        loss = torch.sum(torch.mul(log_likelihood, target))\n",
    "    return loss\n"
   ]
  },
  {
   "cell_type": "code",
   "execution_count": 3,
   "metadata": {},
   "outputs": [
    {
     "name": "stdout",
     "output_type": "stream",
     "text": [
      "torch.Size([1, 3, 1, 1])\n",
      "torch.Size([1, 3, 1, 1])\n",
      "tensor(0.7679)\n",
      "torch.Size([1, 1, 1])\n",
      "tensor(0.7679)\n"
     ]
    }
   ],
   "source": [
    "pred = torch.tensor([[[[0.2]],[[0.7]],[[0.1]]]])\n",
    "print(pred.shape)\n",
    "gt = torch.tensor([[[[0]],[[1]],[[0]]]])\n",
    "print(gt.shape)\n",
    "loss = SoftCrossEntropy(pred, gt)\n",
    "print(loss)\n",
    "gt_ce = torch.tensor([[[1]]])\n",
    "print(gt_ce.shape)\n",
    "loss_ce = F.cross_entropy(pred, gt_ce)\n",
    "print(loss_ce)"
   ]
  },
  {
   "cell_type": "code",
   "execution_count": 10,
   "metadata": {},
   "outputs": [
    {
     "name": "stdout",
     "output_type": "stream",
     "text": [
      "(3,)\n",
      "[[1. 0. 0.]\n",
      " [0. 1. 0.]\n",
      " [0. 0. 1.]]\n"
     ]
    }
   ],
   "source": [
    "import numpy as np\n",
    "img = np.array([0,1,2])\n",
    "print(img.shape)\n",
    "img = np.identity(3)[img]\n",
    "print(img)"
   ]
  },
  {
   "cell_type": "code",
   "execution_count": 7,
   "metadata": {},
   "outputs": [],
   "source": [
    "import pandas as pd\n",
    "import os.path as osp\n",
    "def _get_ids(ids_csv):\n",
    "    return pd.read_csv(ids_csv)['name'].tolist() if ids_csv and osp.exists(ids_csv) else None"
   ]
  },
  {
   "cell_type": "code",
   "execution_count": 15,
   "metadata": {},
   "outputs": [],
   "source": [
    "def repeat_ids(ids):\n",
    "    seen = set()\n",
    "    duplicated = set()\n",
    "    for i in ids:\n",
    "        if i not in seen:\n",
    "            seen.add(i)\n",
    "        else:\n",
    "            duplicated.add(i)\n",
    "    return duplicated"
   ]
  },
  {
   "cell_type": "code",
   "execution_count": 20,
   "metadata": {},
   "outputs": [
    {
     "name": "stdout",
     "output_type": "stream",
     "text": [
      "28725\n",
      "delete_56-2013-0212-6746-LA93-0M50-E080_1625.npy\n",
      "delete_56-2013-0212-6746-LA93-0M50-E080_1645.npy\n",
      "delete_56-2013-0212-6746-LA93-0M50-E080_1635.npy\n",
      "delete_29-2012-0124-6840-LA93-0M50-E080_1065.npy\n",
      "delete_29-2012-0124-6840-LA93-0M50-E080_1060.npy\n",
      "delete_29-2012-0124-6831-LA93-0M50-E080_2345.npy\n",
      "delete_56-2013-0212-6746-LA93-0M50-E080_1640.npy\n",
      "delete_56-2013-0212-6746-LA93-0M50-E080_1630.npy\n",
      "delete_29-2012-0124-6840-LA93-0M50-E080_1070.npy\n"
     ]
    }
   ],
   "source": [
    "import os\n",
    "path = '/data/data/semi_compete/clip/unlabeled_train/pseudo/mask'\n",
    "names = os.listdir(path)\n",
    "print(len(names))\n",
    "unlabelded_ids = _get_ids('/data/data/semi_compete/clip/unlabeled_train/512_128/pseudo.csv')\n",
    "# for ids in unlabelded_ids:\n",
    "#     name = ids.split('/')[-1][:-4]+'.npy'\n",
    "#     if name not in names:\n",
    "#         print(name)\n",
    "\n",
    "unlabeled_names = []\n",
    "for ids in unlabelded_ids:\n",
    "    unlabeled_names.append(ids.split('/')[-1][:-4]+'.npy')\n",
    "for name in names:\n",
    "    if name not in unlabeled_names:\n",
    "        print(name)\n",
    "\n"
   ]
  }
 ],
 "metadata": {
  "interpreter": {
   "hash": "d4d1e4263499bec80672ea0156c357c1ee493ec2b1c70f0acce89fc37c4a6abe"
  },
  "kernelspec": {
   "display_name": "Python 3.8.3 64-bit ('base': conda)",
   "language": "python",
   "name": "python3"
  },
  "language_info": {
   "codemirror_mode": {
    "name": "ipython",
    "version": 3
   },
   "file_extension": ".py",
   "mimetype": "text/x-python",
   "name": "python",
   "nbconvert_exporter": "python",
   "pygments_lexer": "ipython3",
   "version": "3.8.3"
  },
  "orig_nbformat": 4
 },
 "nbformat": 4,
 "nbformat_minor": 2
}
