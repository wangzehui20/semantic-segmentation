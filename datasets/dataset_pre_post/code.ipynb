{
 "cells": [
  {
   "cell_type": "code",
   "execution_count": 2,
   "metadata": {},
   "outputs": [],
   "source": [
    "import csv\n",
    "import os"
   ]
  },
  {
   "cell_type": "code",
   "execution_count": 3,
   "metadata": {},
   "outputs": [],
   "source": [
    "\n",
    "class Csv:\n",
    "    def __init__(self) -> None:\n",
    "        self.keys = []\n",
    "        self.content = dict()\n",
    "        \n",
    "    def readcsv(self, filepath, topk=0):\n",
    "        with open(filepath, encoding='utf-8') as f:\n",
    "            reader = csv.reader(f)\n",
    "            for i, line in enumerate(reader):\n",
    "                if i == 0:\n",
    "                    for key in line:\n",
    "                        if key not in self.content.keys():\n",
    "                            self.content[key] = []\n",
    "                        self.keys.append(key)\n",
    "                else:\n",
    "                    for j, value in enumerate(line):\n",
    "                        self.content[self.keys[j]].append(value)\n",
    "                if i == topk:\n",
    "                    break\n",
    "\n",
    "    def write(self, logpath):\n",
    "        num = len(self.content[self.keys[0]])\n",
    "        for i in range(num):\n",
    "            data = dict()\n",
    "            for key in self.keys:\n",
    "                data[key] = self.content[key][i]\n",
    "            self.writecsv(logpath, data)\n",
    "\n",
    "    def writecsv(self, logpath, data):\n",
    "        firstline = []\n",
    "        logline = []\n",
    "        for k, v in data.items():\n",
    "            if isinstance(v, float):\n",
    "                v = \"%.6f\" % (v)\n",
    "                firstline.append(k)\n",
    "                logline.append(v)\n",
    "            elif isinstance(v, str):\n",
    "                firstline.append(k)\n",
    "                logline.append(v)\n",
    "            elif isinstance(v, int):\n",
    "                firstline.append(k)\n",
    "                logline.append(v)\n",
    "\n",
    "        if os.path.isfile(logpath):\n",
    "            with open(logpath, 'a', newline='')as f:\n",
    "                csv_write = csv.writer(f, dialect='excel')\n",
    "                csv_write.writerow(logline)\n",
    "        else:\n",
    "            with open(logpath, 'w', newline='')as f:\n",
    "                csv_write = csv.writer(f, dialect='excel')\n",
    "                csv_write.writerow(firstline)\n",
    "                csv_write.writerow(logline)"
   ]
  },
  {
   "cell_type": "code",
   "execution_count": 5,
   "metadata": {},
   "outputs": [
    {
     "ename": "NotADirectoryError",
     "evalue": "[Errno 20] Not a directory: '/data/data/semi_compete/clip/labeled_train/512_128/trainpath.csv/image'",
     "output_type": "error",
     "traceback": [
      "\u001b[0;31m---------------------------------------------------------------------------\u001b[0m",
      "\u001b[0;31mNotADirectoryError\u001b[0m                        Traceback (most recent call last)",
      "\u001b[0;32m<ipython-input-5-5bf8d81ba393>\u001b[0m in \u001b[0;36m<module>\u001b[0;34m\u001b[0m\n\u001b[1;32m      6\u001b[0m \u001b[0;32mfor\u001b[0m \u001b[0mname\u001b[0m \u001b[0;32min\u001b[0m \u001b[0mnames\u001b[0m\u001b[0;34m:\u001b[0m\u001b[0;34m\u001b[0m\u001b[0;34m\u001b[0m\u001b[0m\n\u001b[1;32m      7\u001b[0m     \u001b[0mfilepath\u001b[0m \u001b[0;34m=\u001b[0m \u001b[0mos\u001b[0m\u001b[0;34m.\u001b[0m\u001b[0mpath\u001b[0m\u001b[0;34m.\u001b[0m\u001b[0mjoin\u001b[0m\u001b[0;34m(\u001b[0m\u001b[0mroot_path\u001b[0m\u001b[0;34m,\u001b[0m \u001b[0mname\u001b[0m\u001b[0;34m+\u001b[0m\u001b[0;34m'/image'\u001b[0m\u001b[0;34m)\u001b[0m\u001b[0;34m\u001b[0m\u001b[0;34m\u001b[0m\u001b[0m\n\u001b[0;32m----> 8\u001b[0;31m     \u001b[0mns\u001b[0m \u001b[0;34m=\u001b[0m \u001b[0mos\u001b[0m\u001b[0;34m.\u001b[0m\u001b[0mlistdir\u001b[0m\u001b[0;34m(\u001b[0m\u001b[0mfilepath\u001b[0m\u001b[0;34m)\u001b[0m\u001b[0;34m\u001b[0m\u001b[0;34m\u001b[0m\u001b[0m\n\u001b[0m\u001b[1;32m      9\u001b[0m     \u001b[0;32mfor\u001b[0m \u001b[0mi\u001b[0m\u001b[0;34m,\u001b[0m \u001b[0mn\u001b[0m \u001b[0;32min\u001b[0m \u001b[0menumerate\u001b[0m\u001b[0;34m(\u001b[0m\u001b[0mns\u001b[0m\u001b[0;34m)\u001b[0m\u001b[0;34m:\u001b[0m\u001b[0;34m\u001b[0m\u001b[0;34m\u001b[0m\u001b[0m\n\u001b[1;32m     10\u001b[0m         \u001b[0mpath\u001b[0m \u001b[0;34m=\u001b[0m \u001b[0mos\u001b[0m\u001b[0;34m.\u001b[0m\u001b[0mpath\u001b[0m\u001b[0;34m.\u001b[0m\u001b[0mjoin\u001b[0m\u001b[0;34m(\u001b[0m\u001b[0mfilepath\u001b[0m\u001b[0;34m,\u001b[0m \u001b[0mn\u001b[0m\u001b[0;34m)\u001b[0m\u001b[0;34m\u001b[0m\u001b[0;34m\u001b[0m\u001b[0m\n",
      "\u001b[0;31mNotADirectoryError\u001b[0m: [Errno 20] Not a directory: '/data/data/semi_compete/clip/labeled_train/512_128/trainpath.csv/image'"
     ]
    }
   ],
   "source": [
    "root_path = r'/data/data/semi_compete/clip/labeled_train/512_128'\n",
    "names = os.listdir(root_path)\n",
    "c = Csv()\n",
    "save_train_path = r'/data/data/semi_compete/clip/labeled_train/512_128/trainpath.csv'\n",
    "save_val_path = r'/data/data/semi_compete/clip/labeled_train/512_128/valpath.csv'\n",
    "for name in names:\n",
    "    filepath = os.path.join(root_path, name+'/image')\n",
    "    ns = os.listdir(filepath)\n",
    "    for i, n in enumerate(ns):\n",
    "        path = os.path.join(filepath, n)\n",
    "        data = {}\n",
    "        data['name'] = path\n",
    "        if i % 4 ==0:\n",
    "            c.writecsv(save_val_path, data)\n",
    "        else:\n",
    "            c.writecsv(save_train_path, data)"
   ]
  },
  {
   "cell_type": "code",
   "execution_count": 6,
   "metadata": {},
   "outputs": [],
   "source": [
    "root_path = r'/data/data/semi_compete/clip/val/512_128'\n",
    "names = os.listdir(root_path)\n",
    "c = Csv()\n",
    "save_test_path = r'/data/data/semi_compete/clip/val/512_128/testpath.csv'\n",
    "for name in names:\n",
    "    filepath = os.path.join(root_path, name+'/image')\n",
    "    ns = os.listdir(filepath)\n",
    "    for i, n in enumerate(ns):\n",
    "        path = os.path.join(filepath, n)\n",
    "        data = {}\n",
    "        data['name'] = path\n",
    "        c.writecsv(save_test_path, data)"
   ]
  },
  {
   "cell_type": "code",
   "execution_count": 4,
   "metadata": {},
   "outputs": [],
   "source": [
    "root_path = r'/data/data/semi_compete/clip/unlabeled_train/512_128'\n",
    "names = os.listdir(root_path)\n",
    "c = Csv()\n",
    "save_pseudo_path = r'/data/data/semi_compete/clip/unlabeled_train/512_128/pseudo.csv'\n",
    "for name in names:\n",
    "    filepath = os.path.join(root_path, name+'/image')\n",
    "    ns = os.listdir(filepath)\n",
    "    for i, n in enumerate(ns):\n",
    "        path = os.path.join(filepath, n)\n",
    "        data = {}\n",
    "        data['name'] = path\n",
    "        c.writecsv(save_pseudo_path, data)"
   ]
  }
 ],
 "metadata": {
  "interpreter": {
   "hash": "d4d1e4263499bec80672ea0156c357c1ee493ec2b1c70f0acce89fc37c4a6abe"
  },
  "kernelspec": {
   "display_name": "Python 3.8.3 64-bit ('base': conda)",
   "language": "python",
   "name": "python3"
  },
  "language_info": {
   "codemirror_mode": {
    "name": "ipython",
    "version": 3
   },
   "file_extension": ".py",
   "mimetype": "text/x-python",
   "name": "python",
   "nbconvert_exporter": "python",
   "pygments_lexer": "ipython3",
   "version": "3.8.3"
  },
  "orig_nbformat": 4
 },
 "nbformat": 4,
 "nbformat_minor": 2
}
